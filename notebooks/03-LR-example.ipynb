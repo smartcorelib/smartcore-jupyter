{
 "cells": [
  {
   "cell_type": "markdown",
   "id": "2f44351f",
   "metadata": {},
   "source": [
    "# Linear Regression example"
   ]
  },
  {
   "cell_type": "code",
   "execution_count": 2,
   "id": "7f37987a",
   "metadata": {},
   "outputs": [],
   "source": [
    "// cargo install the newest version\n",
    ":dep smartcore = { git = \"https://github.com/smartcorelib/smartcore\", branch = \"v0.5-wip\" }"
   ]
  },
  {
   "cell_type": "code",
   "execution_count": 4,
   "id": "61d9e352",
   "metadata": {},
   "outputs": [],
   "source": [
    "use smartcore::dataset::iris::load_dataset;\n",
    "use smartcore::linear::logistic_regression::LogisticRegression;\n",
    "use smartcore::linalg::basic::matrix::DenseMatrix;\n",
    "// Model performance\n",
    "use smartcore::metrics::accuracy;"
   ]
  },
  {
   "cell_type": "code",
   "execution_count": 6,
   "id": "5170a9bc",
   "metadata": {},
   "outputs": [
    {
     "name": "stdout",
     "output_type": "stream",
     "text": [
      "accuracy: 0.9866666666666667\n"
     ]
    }
   ],
   "source": [
    "// Load Iris dataset\n",
    "let iris_dataset = load_dataset();\n",
    "\n",
    "// Turn Iris dataset into NxM matrix\n",
    "// Input data\n",
    "let x: DenseMatrix<f32> = DenseMatrix::new(\n",
    "    iris_dataset.num_samples,      // num rows\n",
    "    iris_dataset.num_features,     // num columns\n",
    "    iris_dataset.data,             // data as Vec\n",
    "    false,                         // column_major\n",
    ");\n",
    "// These are our target class labels\n",
    "let y = iris_dataset.target;\n",
    "\n",
    "// Fit Logistic Regression to Iris dataset\n",
    "let lr = LogisticRegression::fit(&x, &y, Default::default()).unwrap();\n",
    "let y_hat = lr.predict(&x).unwrap(); // Predict class labels\n",
    "\n",
    "// Calculate training error\n",
    "println!(\"accuracy: {}\", accuracy(&y, &y_hat)); // Prints 0.98"
   ]
  },
  {
   "cell_type": "code",
   "execution_count": null,
   "id": "a8fffc20",
   "metadata": {},
   "outputs": [],
   "source": []
  }
 ],
 "metadata": {
  "kernelspec": {
   "display_name": "Rust",
   "language": "rust",
   "name": "rust"
  },
  "language_info": {
   "codemirror_mode": "rust",
   "file_extension": ".rs",
   "mimetype": "text/rust",
   "name": "Rust",
   "pygment_lexer": "rust",
   "version": ""
  }
 },
 "nbformat": 4,
 "nbformat_minor": 5
}
