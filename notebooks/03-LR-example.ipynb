{
 "cells": [
  {
   "cell_type": "markdown",
   "id": "2f44351f",
   "metadata": {},
   "source": [
    "# Logistic Regression example"
   ]
  },
  {
   "cell_type": "code",
   "execution_count": 2,
   "id": "7f37987a",
   "metadata": {},
   "outputs": [],
   "source": [
    "// cargo install the newest version\n",
    "// this may take a while, needs to download and install the library\n",
    ":dep smartcore = { git = \"https://github.com/smartcorelib/smartcore\", branch = \"v0.5-wip\" }"
   ]
  },
  {
   "cell_type": "code",
   "execution_count": 9,
   "id": "61d9e352",
   "metadata": {},
   "outputs": [],
   "source": [
    "use smartcore::dataset::iris::load_dataset as iris_load;\n",
    "use smartcore::dataset::breast_cancer::load_dataset as bc_load;\n",
    "use smartcore::dataset::diabetes::load_dataset as db_load;\n",
    "use smartcore::linear::logistic_regression::LogisticRegression;\n",
    "use smartcore::linalg::basic::matrix::DenseMatrix;\n",
    "// Model performance\n",
    "use smartcore::metrics::accuracy;\n",
    "\n",
    "use smartcore::model_selection::{cross_val_predict, cross_validate, KFold};"
   ]
  },
  {
   "cell_type": "markdown",
   "id": "463aeafb",
   "metadata": {},
   "source": [
    "## basic prediction and accuracy"
   ]
  },
  {
   "cell_type": "code",
   "execution_count": 4,
   "id": "5170a9bc",
   "metadata": {},
   "outputs": [
    {
     "name": "stdout",
     "output_type": "stream",
     "text": [
      "accuracy: 0.9866666666666667\n"
     ]
    }
   ],
   "source": [
    "// Load Iris dataset\n",
    "let iris_dataset = iris_load();\n",
    "\n",
    "// Turn Iris dataset into NxM matrix\n",
    "// Input data\n",
    "let x: DenseMatrix<f32> = DenseMatrix::new(\n",
    "    iris_dataset.num_samples,      // num rows\n",
    "    iris_dataset.num_features,     // num columns\n",
    "    iris_dataset.data,             // data as Vec\n",
    "    false,                         // column_major\n",
    ");\n",
    "// These are our target class labels\n",
    "let y: Vec<u32> = iris_dataset.target;\n",
    "\n",
    "// Fit Logistic Regression to Iris dataset\n",
    "let lr = LogisticRegression::fit(&x, &y, Default::default()).unwrap();\n",
    "let y_hat = lr.predict(&x).unwrap(); // Predict class labels\n",
    "\n",
    "// Calculate training error\n",
    "println!(\"accuracy: {}\", accuracy(&y, &y_hat)); // Prints 0.98"
   ]
  },
  {
   "cell_type": "markdown",
   "id": "380fc5f2",
   "metadata": {},
   "source": [
    "## basic cross validation"
   ]
  },
  {
   "cell_type": "code",
   "execution_count": 8,
   "id": "982c2e64",
   "metadata": {},
   "outputs": [
    {
     "name": "stdout",
     "output_type": "stream",
     "text": [
      "Test score: 0.9543488350505894, training score: 0.9710063417117993\n"
     ]
    }
   ],
   "source": [
    "// we need to import this as LogisticRegression is a SupervisedEstimator\n",
    "// and we need its traits\n",
    "use smartcore::api::SupervisedEstimator\n",
    "\n",
    "// This example is expired by\n",
    "// https://scikit-learn.org/stable/auto_examples/model_selection/plot_cv_predict.html\n",
    "// Load dataset\n",
    "let breast_cancer_data = bc_load();\n",
    "let x: DenseMatrix<f32> = DenseMatrix::new(\n",
    "    breast_cancer_data.num_samples,\n",
    "    breast_cancer_data.num_features,\n",
    "    breast_cancer_data.data,\n",
    "    false\n",
    ");\n",
    "// These are our target values\n",
    "let y = breast_cancer_data.target;\n",
    "// cross-validated estimator\n",
    "let results = cross_validate(\n",
    "    LogisticRegression::new(),\n",
    "    &x,\n",
    "    &y,\n",
    "    Default::default(),\n",
    "    KFold::default().with_n_splits(3),\n",
    "    &accuracy,\n",
    ")\n",
    ".unwrap();\n",
    "println!(\n",
    "    \"Test score: {}, training score: {}\",\n",
    "    results.mean_test_score(),\n",
    "    results.mean_train_score()\n",
    ");\n"
   ]
  },
  {
   "cell_type": "markdown",
   "id": "a616cc7b",
   "metadata": {},
   "source": [
    "## basic cross validation with prediction"
   ]
  },
  {
   "cell_type": "code",
   "execution_count": 13,
   "id": "6af575d2",
   "metadata": {},
   "outputs": [
    {
     "name": "stdout",
     "output_type": "stream",
     "text": [
      "y hat [207, 73, 179, 162, 126, 105, 77, 121, 162, 204, 97, 101, 114, 167, 103, 181, 214, 180, 146, 127, 123, 89, 110, 259, 161, 146, 94, 184, 122, 179, 158, 70, 265, 110, 78, 92, 202, 162, 238, 137, 153, 75, 151, 80, 218, 128, 140, 110, 71, 193, 158, 166, 132, 160, 135, 68, 201, 79, 94, 137, 113, 182, 65, 99, 114, 192, 146, 125, 115, 120, 74, 233, 143, 124, 150, 127, 191, 75, 160, 87, 176, 124, 64, 153, 52, 164, 43, 152, 80, 104, 79, 189, 193, 58, 107, 124, 207, 211, 126, 137, 168, 109, 150, 160, 161, 112, 69, 158, 230, 148, 40, 120, 150, 206, 292, 190, 214, 235, 168, 147, 153, 199, 220, 174, 169, 190, 53, 105, 91, 208, 244, 64, 114, 68, 147, 236, 59, 235, 250, 248, 155, 222, 171, 121, 178, 234, 186, 229, 118, 182, 208, 144, 196, 125, 148, 197, 146, 124, 86, 233, 84, 230, 148, 195, 142, 74, 54, 260, 225, 231, 49, 86, 220, 94, 165, 119, 155, 220, 99, 166, 176, 88, 173, 161, 200, 186, 198, 63, 152, 117, 193, 123, 93, 139, 158, 170, 98, 191, 150, 179, 94, 70, 167, 199, 177, 235, 158, 214, 220, 175, 121, 174, 152, 100, 98, 263, 231, 220, 130, 147, 50, 144, 153, 120, 76, 230, 75, 107, 115, 101, 165, 159, 159, 145, 235, 183, 186, 64, 184, 173, 234, 118, 85, 103, 138, 102, 124, 82, 233, 245, 260, 275, 181, 202, 250, 116, 263, 108, 113, 144, 55, 129, 258, 45, 123, 131, 35, 138, 243, 89, 188, 162, 149, 189, 177, 158, 184, 118, 110, 115, 164, 95, 135, 80, 162, 198, 77, 140, 81, 198, 220, 196, 93, 178, 76, 146, 77, 101, 107, 123, 214, 128, 207, 230, 116, 134, 128, 145, 86, 140, 202, 170, 122, 211, 173, 111, 197, 175, 162, 194, 190, 279, 283, 209, 206, 215, 156, 222, 194, 99, 179, 109, 289, 182, 80, 83, 243, 175, 123, 152, 168, 180, 165, 159, 144, 123, 180, 106, 130, 93, 248, 88, 62, 154, 191, 139, 95, 205, 54, 172, 196, 114, 236, 163, 153, 159, 251, 250, 201, 185, 55, 196, 110, 139, 122, 182, 214, 171, 163, 137, 179, 77, 254, 113, 113, 136, 109, 90, 166, 74, 251, 51, 101, 101, 254, 171, 54, 181, 162, 189, 182, 86, 141, 244, 195, 280, 47, 168, 205, 176, 156, 153, 228, 125, 162, 171, 225, 156, 102, 80, 136, 191, 192, 155, 175, 113, 164, 129, 261, 103, 116, 125, 223, 60, 130, 119, 52, 191, 103, 122, 213, 49]\n"
     ]
    }
   ],
   "source": [
    "use smartcore::linear::linear_regression::LinearRegression;\n",
    "\n",
    "// Load Diabetes dataset\n",
    "let diabetes_data = db_load();\n",
    "let x = DenseMatrix::new(\n",
    "    diabetes_data.num_samples,\n",
    "    diabetes_data.num_features,\n",
    "    diabetes_data.data,\n",
    "    false\n",
    ");\n",
    "\n",
    "// These are our target values\n",
    "let y = diabetes_data.target;\n",
    "// Generate cross-validated estimates for each input data point\n",
    "let y_hat = cross_val_predict(\n",
    "    LinearRegression::new(),\n",
    "    &x,\n",
    "    &y,\n",
    "    Default::default(),\n",
    "    KFold::default().with_n_splits(10),\n",
    ")\n",
    ".unwrap();\n",
    "\n",
    "\n",
    "println!(\n",
    "    \"y hat {:?}\",\n",
    "    y_hat\n",
    ");\n"
   ]
  },
  {
   "cell_type": "code",
   "execution_count": null,
   "id": "7bef24fa",
   "metadata": {},
   "outputs": [],
   "source": [
    "// TODO: try to plot xy with plotter\n",
    ":dep plotters = { version = \"^0.3.0\", default_features = false, features = [\"evcxr\", \"all_series\"] }\n",
    "\n",
    "// Assemble XY dataset for the scatter plot\n",
    "// let xy = DenseMatrix::from_2d_vec(\n",
    "//     &y_hat\n",
    "//         .into_iter()\n",
    "//         .zip(y.into_iter())\n",
    "//         .map(|(x1, x2)| vec![x1, x2])\n",
    "//         .collect(),\n",
    "// );"
   ]
  }
 ],
 "metadata": {
  "kernelspec": {
   "display_name": "Rust",
   "language": "rust",
   "name": "rust"
  },
  "language_info": {
   "codemirror_mode": "rust",
   "file_extension": ".rs",
   "mimetype": "text/rust",
   "name": "Rust",
   "pygment_lexer": "rust",
   "version": ""
  }
 },
 "nbformat": 4,
 "nbformat_minor": 5
}
