{
 "cells": [
  {
   "cell_type": "markdown",
   "id": "98170a0f",
   "metadata": {},
   "source": [
    "# intro to Smartcore\n",
    "\n",
    "Let's start installing the library dependence."
   ]
  },
  {
   "cell_type": "code",
   "execution_count": 3,
   "id": "b409179c",
   "metadata": {},
   "outputs": [],
   "source": [
    "// cargo install the newest version\n",
    ":dep smartcore = { git = \"https://github.com/smartcorelib/smartcore\", branch = \"v0.5-wip\" }"
   ]
  },
  {
   "cell_type": "markdown",
   "id": "a6ecfaf7",
   "metadata": {},
   "source": [
    "## numbers types"
   ]
  },
  {
   "cell_type": "markdown",
   "id": "97485513",
   "metadata": {},
   "source": [
    "To try the new `RealNumber` trait:"
   ]
  },
  {
   "cell_type": "code",
   "execution_count": 6,
   "id": "47359f2d",
   "metadata": {},
   "outputs": [
    {
     "name": "stdout",
     "output_type": "stream",
     "text": [
      "0.7310585786300049\n",
      "1.0\n",
      "0.0\n"
     ]
    }
   ],
   "source": [
    "use smartcore::numbers::realnum::*;  // this line is not needed, just to be explicit\n",
    "\n",
    "println!(\"{:?}\", 1.0.sigmoid());     // 0.7310585786300049\n",
    "println!(\"{:?}\", 41.0.sigmoid());     // 1.\n",
    "println!(\"{:?}\", (-41.0).sigmoid());  // 0\n"
   ]
  },
  {
   "cell_type": "markdown",
   "id": "8ca632b6",
   "metadata": {},
   "source": [
    "As \n",
    "All the `numbers` traits extend some of Rust standard library's primitives with usefull methods, like `sigmoid`.\n",
    "\n",
    "Smartcore `numbers` provides traits that are composition of [`num-traits` library's](https://docs.rs/num-traits/latest/num_traits/) base traits:\n",
    "* `basenum::Number`: . The most relavant traits are `Bounded` and `Copy` but you can look up all the ones that are part of the set.\n",
    "* `floatnum::FloatNumber`: a trait that is the composition of `Number + Float + Signed`\n",
    "* `realnum::RealNumber`: a trait to specify Reals (Rational and Irrational), it is the composition of `Number + Float`\n"
   ]
  }
 ],
 "metadata": {
  "kernelspec": {
   "display_name": "Rust",
   "language": "rust",
   "name": "rust"
  },
  "language_info": {
   "codemirror_mode": "rust",
   "file_extension": ".rs",
   "mimetype": "text/rust",
   "name": "Rust",
   "pygment_lexer": "rust",
   "version": ""
  }
 },
 "nbformat": 4,
 "nbformat_minor": 5
}
