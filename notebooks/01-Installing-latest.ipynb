{
 "cells": [
  {
   "cell_type": "markdown",
   "id": "98170a0f",
   "metadata": {},
   "source": [
    "# intro to Smartcore"
   ]
  },
  {
   "cell_type": "code",
   "execution_count": 3,
   "id": "b409179c",
   "metadata": {},
   "outputs": [],
   "source": [
    "// cargo install the newest version\n",
    ":dep smartcore = { git = \"https://github.com/smartcorelib/smartcore\", branch = \"v0.5-wip\" }"
   ]
  },
  {
   "cell_type": "code",
   "execution_count": 5,
   "id": "47359f2d",
   "metadata": {},
   "outputs": [
    {
     "name": "stdout",
     "output_type": "stream",
     "text": [
      "0.7310585786300049\n",
      "1.0\n",
      "0.0\n"
     ]
    }
   ],
   "source": [
    "use smartcore::numbers::realnum::*;\n",
    "\n",
    "println!(\"{:?}\", 1.0.sigmoid());     // 0.7310585786300049\n",
    "println!(\"{:?}\", 41.0.sigmoid());     // 1.\n",
    "println!(\"{:?}\", (-41.0).sigmoid());  // 0\n"
   ]
  },
  {
   "cell_type": "code",
   "execution_count": null,
   "id": "bb26aeeb",
   "metadata": {},
   "outputs": [],
   "source": []
  }
 ],
 "metadata": {
  "kernelspec": {
   "display_name": "Rust",
   "language": "rust",
   "name": "rust"
  },
  "language_info": {
   "codemirror_mode": "rust",
   "file_extension": ".rs",
   "mimetype": "text/rust",
   "name": "Rust",
   "pygment_lexer": "rust",
   "version": ""
  }
 },
 "nbformat": 4,
 "nbformat_minor": 5
}
