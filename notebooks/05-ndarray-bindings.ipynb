{
 "cells": [
  {
   "cell_type": "markdown",
   "id": "d3081428",
   "metadata": {},
   "source": [
    "# ndarray bindings\n",
    "Beside our custom Linear Algebra traits system, it is also possible to use structures from the popular `ndarray` crate. Thanks to `ndarray` developers!"
   ]
  },
  {
   "cell_type": "code",
   "execution_count": 7,
   "id": "3af3392e",
   "metadata": {},
   "outputs": [],
   "source": [
    "// cargo install the newest version\n",
    "// this may take a while, needs to download and install the library\n",
    "\n",
    "// NOTE: see the \"features\" field that specify that \"ndarray-bindings\" should be included\n",
    ":dep smartcore = {git = \"https://github.com/smartcorelib/smartcore\", branch = \"v0.5-wip\", features = [\"ndarray-bindings\"] }\n",
    ":dep ndarray = \"0.15\""
   ]
  },
  {
   "cell_type": "code",
   "execution_count": 27,
   "id": "18f6811e",
   "metadata": {},
   "outputs": [],
   "source": [
    "use ndarray::{arr2, Array2 as NDArray2};\n",
    "use smartcore::linalg::basic::arrays::{Array, Array2};"
   ]
  },
  {
   "cell_type": "markdown",
   "id": "60cb5d57",
   "metadata": {},
   "source": [
    "## use an ndarray struct with Smartcore's Array trait\n",
    "Here we see how `ndarray::Array2` can use `smartcore::{Array, Array2}`'s methods: "
   ]
  },
  {
   "cell_type": "code",
   "execution_count": 28,
   "id": "8e77775d",
   "metadata": {},
   "outputs": [
    {
     "name": "stdout",
     "output_type": "stream",
     "text": [
      "[[1, 2, 3],\n",
      " [4, 9, 6]]\n"
     ]
    }
   ],
   "source": [
    "let mut a: NDArray2<i32> = arr2(&[[1, 2, 3], [4, 5, 6]]);\n",
    "\n",
    "assert_eq!(*Array::get(&a, (1, 1)), 5);\n",
    "\n",
    "// use of .set()\n",
    "a.set((1, 1), 9);\n",
    "assert_eq!(a, arr2(&[[1, 2, 3], [4, 9, 6]]));\n",
    "\n",
    "println!(\"{}\", a);"
   ]
  },
  {
   "cell_type": "code",
   "execution_count": 29,
   "id": "92100adf",
   "metadata": {},
   "outputs": [
    {
     "name": "stdout",
     "output_type": "stream",
     "text": [
      "[[1, 2, 3],\n",
      " [4, 5, 6],\n",
      " [7, 8, 9],\n",
      " [10, 11, 12]]\n",
      "[[1, 5, 9],\n",
      " [2, 6, 10],\n",
      " [3, 7, 11],\n",
      " [4, 8, 12]]\n"
     ]
    }
   ],
   "source": [
    "// use of .from_iterator()\n",
    "let data = vec![1, 2, 3, 4, 5, 6, 7, 8, 9, 10, 11, 12];\n",
    "let a: NDArray2<i32> = Array2::from_iterator(data.clone().into_iter(), 4, 3, 0);\n",
    "println!(\"{}\", a);\n",
    "\n",
    "let a: NDArray2<i32> = Array2::from_iterator(data.into_iter(), 4, 3, 1);\n",
    "println!(\"{}\", a);"
   ]
  },
  {
   "cell_type": "code",
   "execution_count": 32,
   "id": "3bb3b517",
   "metadata": {},
   "outputs": [
    {
     "name": "stdout",
     "output_type": "stream",
     "text": [
      "[[0, 2, 4],\n",
      " [1, 3, 5]]\n"
     ]
    }
   ],
   "source": [
    "// use of .iterator_mut()\n",
    "let mut a = arr2(&[[1, 2, 3], [4, 5, 6]]);\n",
    "\n",
    "a.iterator_mut(0).enumerate().for_each(|(i, v)| *v = i);\n",
    "assert_eq!(a, arr2(&[[0, 1, 2], [3, 4, 5]]));\n",
    "a.iterator_mut(1).enumerate().for_each(|(i, v)| *v = i);\n",
    "assert_eq!(a, arr2(&[[0, 2, 4], [1, 3, 5]]));\n",
    "\n",
    "println!(\"{}\", a);"
   ]
  },
  {
   "cell_type": "code",
   "execution_count": 34,
   "id": "70ff2029",
   "metadata": {},
   "outputs": [
    {
     "name": "stdout",
     "output_type": "stream",
     "text": [
      "[[2],\n",
      " [5]], shape=[2, 1], strides=[3, 0], layout=Custom (0x0), const ndim=2\n",
      "[[1, 2, 3],\n",
      " [4, 5, 6]], shape=[2, 3], strides=[3, 1], layout=Cc (0x5), const ndim=2\n"
     ]
    },
    {
     "data": {
      "text/plain": [
       "()"
      ]
     },
     "execution_count": 34,
     "metadata": {},
     "output_type": "execute_result"
    }
   ],
   "source": [
    "// slice\n",
    "{\n",
    "    let x = arr2(&[[1, 2, 3], [4, 5, 6]]);\n",
    "    let x_slice = Array2::slice(&x, 0..2, 1..2);\n",
    "    assert_eq!((2, 1), x_slice.shape());\n",
    "    let v: Vec<i32> = x_slice.iterator(0).map(|&v| v).collect();\n",
    "    assert_eq!(v, [2, 5]);\n",
    "    println!(\"{:?}\", x_slice);\n",
    "}\n",
    "\n",
    "// slice_iter\n",
    "{\n",
    "    let x = arr2(&[[1, 2, 3], [4, 5, 6]]);\n",
    "    let x_slice = Array2::slice(&x, 0..2, 0..3);\n",
    "    assert_eq!(\n",
    "        x_slice.iterator(0).map(|&v| v).collect::<Vec<i32>>(),\n",
    "        vec![1, 2, 3, 4, 5, 6]\n",
    "    );\n",
    "    assert_eq!(\n",
    "        x_slice.iterator(1).map(|&v| v).collect::<Vec<i32>>(),\n",
    "        vec![1, 4, 2, 5, 3, 6]\n",
    "    );\n",
    "    println!(\"{:?}\", x_slice);\n",
    "}"
   ]
  },
  {
   "cell_type": "code",
   "execution_count": null,
   "id": "9b931fff",
   "metadata": {},
   "outputs": [],
   "source": []
  }
 ],
 "metadata": {
  "kernelspec": {
   "display_name": "Rust",
   "language": "rust",
   "name": "rust"
  },
  "language_info": {
   "codemirror_mode": "rust",
   "file_extension": ".rs",
   "mimetype": "text/rust",
   "name": "Rust",
   "pygment_lexer": "rust",
   "version": ""
  }
 },
 "nbformat": 4,
 "nbformat_minor": 5
}
