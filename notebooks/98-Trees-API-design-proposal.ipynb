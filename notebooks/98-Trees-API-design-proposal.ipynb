{
 "cells": [
  {
   "cell_type": "markdown",
   "id": "79a2ba76",
   "metadata": {},
   "source": [
    "# Decision Trees\n",
    "\n",
    "**NOTE:** this is an API design proposal. It is not currently implemented. For currently implemented `tree` modules see `04-Trees`."
   ]
  },
  {
   "cell_type": "code",
   "execution_count": 2,
   "id": "2149b138",
   "metadata": {
    "vscode": {
     "languageId": "rust"
    }
   },
   "outputs": [
    {
     "ename": "Error",
     "evalue": "Subprocess terminated with status: signal: 9 (SIGKILL)",
     "output_type": "error",
     "traceback": [
      "Subprocess terminated with status: signal: 9 (SIGKILL)"
     ]
    }
   ],
   "source": [
    "// cargo install the newest version\n",
    "// this may take a while, needs to download and install the library\n",
    ":dep smartcore = { git = \"https://github.com/smartcorelib/smartcore\", branch = \"development\" }"
   ]
  },
  {
   "cell_type": "code",
   "execution_count": null,
   "id": "f9c615c9",
   "metadata": {
    "vscode": {
     "languageId": "rust"
    }
   },
   "outputs": [],
   "source": [
    "// https://scikit-learn.org/stable/modules/tree.html#tree\n",
    "// >>> from sklearn import tree\n",
    "// >>> X = [[0, 0], [1, 1]]\n",
    "// >>> Y = [0, 1]\n",
    "// >>> clf = tree.DecisionTreeClassifier()\n",
    "// >>> clf = clf.fit(X, Y)\n",
    "\n",
    "use smartcore::tree;\n",
    "\n",
    "let x = &[[0., 0.], [1., 1.]];\n",
    "let y = &[0, 1];\n",
    "let mut clf = tree::DecisionTreeClassifier::new();\n",
    "let clf = clf.fit(x, y)?;\n",
    "\n",
    "// >>> clf.predict([[2., 2.]])\n",
    "println!(\"{:?}\", clf.predict(&[[2., 2.]])?); //=> array([1])\n",
    "\n",
    "// >>> clf.predict_proba([[2., 2.]])\n",
    "println!(\"{:?}\", clf.predict_proba(&[[2., 2.]])?); //=> array([[0., 1.]])\n",
    "\n",
    " "
   ]
  },
  {
   "cell_type": "code",
   "execution_count": null,
   "id": "20e4755a",
   "metadata": {
    "vscode": {
     "languageId": "rust"
    }
   },
   "outputs": [],
   "source": [
    "// >>> from sklearn.datasets import load_iris\n",
    "// >>> from sklearn import tree\n",
    "// >>> iris = load_iris()\n",
    "// >>> X, y = iris.data, iris.target\n",
    "// >>> clf = tree.DecisionTreeClassifier()\n",
    "// >>> clf = clf.fit(X, y)\n",
    "\n",
    "use smartcore::dataset::load_iris;\n",
    "\n",
    "let iris = load_iris();\n",
    "let (x, y) = (iris.data, iris.target);\n",
    "let mut clf = tree::DecisionTreeClassifier::new();\n",
    "let clf = clf.fit(x, y)?;"
   ]
  },
  {
   "cell_type": "code",
   "execution_count": null,
   "id": "2ce179b7",
   "metadata": {
    "vscode": {
     "languageId": "rust"
    }
   },
   "outputs": [],
   "source": [
    "// >>> from sklearn.datasets import load_iris\n",
    "// >>> from sklearn.tree import DecisionTreeClassifier\n",
    "// >>> from sklearn.tree import export_text\n",
    "// >>> iris = load_iris()\n",
    "// >>> decision_tree = DecisionTreeClassifier(random_state=0, max_depth=2)\n",
    "// >>> decision_tree = decision_tree.fit(iris.data, iris.target)\n",
    "// >>> r = export_text(decision_tree, feature_names=iris['feature_names'])\n",
    "// >>> print(r)\n",
    "\n",
    "use smartcore::dataset::load_iris;\n",
    "use smartcore::tree::{DecisionTreeClassifier, ExportText};\n",
    "\n",
    "let iris = load_iris();\n",
    "let mut decision_tree = DecisionTreeClassifier::builder()\n",
    "    .random_state(0)\n",
    "    .max_depth(2)\n",
    "    .build(); // or fit()\n",
    "\n",
    "let decision_tree = decision_tree.fit(&iris.data, &iris.target)?;\n",
    "let r = ExportText::builder()\n",
    "    .feature_names(&iris.feature_names)?\n",
    "    .export(&decision_tree)?;\n",
    "\n",
    "println!(\"{:?}\", r);"
   ]
  }
 ],
 "metadata": {
  "kernelspec": {
   "display_name": "Rust",
   "language": "rust",
   "name": "rust"
  },
  "language_info": {
   "codemirror_mode": "rust",
   "file_extension": ".rs",
   "mimetype": "text/rust",
   "name": "Rust",
   "pygment_lexer": "rust",
   "version": ""
  }
 },
 "nbformat": 4,
 "nbformat_minor": 5
}
