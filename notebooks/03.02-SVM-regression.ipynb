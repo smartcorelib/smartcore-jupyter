{
 "cells": [
  {
   "cell_type": "markdown",
   "id": "2f44351f",
   "metadata": {},
   "source": [
    "# Logistic Regression example"
   ]
  },
  {
   "cell_type": "code",
   "execution_count": 2,
   "id": "7f37987a",
   "metadata": {
    "vscode": {
     "languageId": "rust"
    }
   },
   "outputs": [],
   "source": [
    "// cargo install the newest version\n",
    "// this may take a while, needs to download and install the library\n",
    ":dep smartcore = { git = \"https://github.com/smartcorelib/smartcore\", branch = \"development\", features = [\"serde\"] }\n",
    ":dep serde_json = \"1.0\""
   ]
  },
  {
   "cell_type": "code",
   "execution_count": 3,
   "id": "61d9e352",
   "metadata": {
    "vscode": {
     "languageId": "rust"
    }
   },
   "outputs": [],
   "source": [
    "use smartcore::dataset::iris::load_dataset as iris_load;\n",
    "use smartcore::dataset::breast_cancer::load_dataset as bc_load;\n",
    "use smartcore::dataset::diabetes::load_dataset as db_load;\n",
    "use smartcore::linalg::basic::matrix::DenseMatrix;\n",
    "use serde_json;\n",
    "// Model performance\n",
    "use smartcore::metrics::{f1, mean_squared_error};\n",
    "\n",
    "use smartcore::svm::Kernels;\n",
    "use smartcore::svm::svr::*;"
   ]
  },
  {
   "cell_type": "markdown",
   "id": "463aeafb",
   "metadata": {},
   "source": [
    "## basic prediction and accuracy"
   ]
  },
  {
   "cell_type": "code",
   "execution_count": 4,
   "id": "5170a9bc",
   "metadata": {
    "vscode": {
     "languageId": "rust"
    }
   },
   "outputs": [
    {
     "name": "stdout",
     "output_type": "stream",
     "text": [
      "mse 0.6666666666666666\n",
      "f1 0.3333333333333333\n"
     ]
    }
   ],
   "source": [
    "// Load Iris dataset\n",
    "let iris_dataset = iris_load();\n",
    "\n",
    "// Turn Iris dataset into NxM matrix\n",
    "// Input data\n",
    "let x: DenseMatrix<f32> = DenseMatrix::new(\n",
    "    iris_dataset.num_samples,      // num rows\n",
    "    iris_dataset.num_features,     // num columns\n",
    "    iris_dataset.data,             // data as Vec\n",
    "    false,                         // column_major\n",
    ");\n",
    "// These are our target class labels\n",
    "let y: Vec<f32> = iris_dataset.target.into_iter().map(|x| x as f32).collect();\n",
    "\n",
    "let knl = Kernels::linear();\n",
    "let y_hat = SVR::fit(\n",
    "    &x,\n",
    "    &y,\n",
    "    &SVRParameters::default()\n",
    "        .with_eps(2.0)\n",
    "        .with_c(10.0)\n",
    "        .with_kernel(&knl),\n",
    ")\n",
    ".and_then(|lr| lr.predict(&x))\n",
    ".unwrap();\n",
    "\n",
    "let m: f64 = mean_squared_error(&y, &y_hat);\n",
    "let f_1: f64 = f1(&y, &y_hat, 1.0);\n",
    "\n",
    "println!(\"mse {}\", &m);\n",
    "println!(\"f1 {}\", &f_1);\n",
    "\n",
    "// // to JSON\n",
    "// let serialized_svc: &String = &serde_json::to_string(&svc).unwrap();"
   ]
  },
  {
   "cell_type": "code",
   "execution_count": null,
   "id": "31dc6b9d",
   "metadata": {
    "vscode": {
     "languageId": "rust"
    }
   },
   "outputs": [],
   "source": []
  }
 ],
 "metadata": {
  "kernelspec": {
   "display_name": "Rust",
   "language": "rust",
   "name": "rust"
  },
  "language_info": {
   "codemirror_mode": "rust",
   "file_extension": ".rs",
   "mimetype": "text/rust",
   "name": "Rust",
   "pygment_lexer": "rust",
   "version": ""
  }
 },
 "nbformat": 4,
 "nbformat_minor": 5
}
