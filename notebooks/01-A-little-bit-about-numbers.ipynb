{
 "cells": [
  {
   "cell_type": "markdown",
   "id": "98170a0f",
   "metadata": {},
   "source": [
    "# intro to Smartcore\n",
    "\n",
    "Let's start installing the library dependency."
   ]
  },
  {
   "cell_type": "code",
   "execution_count": 2,
   "id": "b409179c",
   "metadata": {},
   "outputs": [],
   "source": [
    "// cargo install the newest version\n",
    "// this may take a while, needs to download and install the library\n",
    ":dep smartcore = \"0.3.0\""
   ]
  },
  {
   "cell_type": "markdown",
   "id": "93b41009",
   "metadata": {},
   "source": [
    "As an example of what Smartcore provides to the users, let's try `sigmoid` provided by the new `RealNumber` trait:"
   ]
  },
  {
   "cell_type": "code",
   "execution_count": 3,
   "id": "47359f2d",
   "metadata": {},
   "outputs": [
    {
     "name": "stdout",
     "output_type": "stream",
     "text": [
      "0.7310585786300049\n",
      "1.0\n",
      "0.0\n"
     ]
    }
   ],
   "source": [
    "use smartcore::numbers::realnum::*;   // this line is not needed, just to be explicit\n",
    "\n",
    "println!(\"{:?}\", 1.0.sigmoid());      // 0.7310585786300049\n",
    "println!(\"{:?}\", 41.0.sigmoid());     // 1.\n",
    "println!(\"{:?}\", (-41.0).sigmoid());  // 0\n"
   ]
  },
  {
   "cell_type": "markdown",
   "id": "d51b4105",
   "metadata": {},
   "source": [
    "## -> where to start\n",
    "\n",
    "*If you want to just jump into running algorithms on your data*, the best place to start is instantiating a `smartcore::linalg::basic::matrix::DenseMatrix`; with this handy structure you can leverage all the functionalities provided by the traits system with a simple interface. For the usage of  `DenseMatrix` see the other notebooks where procedures are presented.\n",
    "\n",
    "*If you are interested in understanding how Smartcore works* because you are thinking about contributing or you are just curious, keep reading here and you will find some nuggets."
   ]
  },
  {
   "cell_type": "markdown",
   "id": "f1fd5050",
   "metadata": {},
   "source": [
    "## numbers types\n",
    "\n",
    "As you can see `RealNumber` extends the usual `float` with some convenience methods. Every time the function `sigmoid` is called on a Rust \"numeric\" type, the type system reconciles the traits attached to that type to find the function. Obviously an error is presented by the wonderful Rust compiler if no method can be found or if there is ambiguity between types providing the same method. \n",
    "\n",
    "All the `numbers` traits implement some of Rust standard library's primitives with usefull methods, like `sigmoid`.\n",
    "\n",
    "`smartcore::numbers::basenum::Number` is implemented for all Rust's primitives:\n",
    "```\n",
    "impl Number for f64 {}\n",
    "impl Number for f32 {}\n",
    "impl Number for i8 {}\n",
    "impl Number for i16 {}\n",
    "impl Number for i32 {}\n",
    "impl Number for i64 {}\n",
    "impl Number for u8 {}\n",
    "impl Number for u16 {}\n",
    "impl Number for u32 {}\n",
    "impl Number for u64 {}\n",
    "impl Number for usize {}\n",
    "```\n",
    "\n",
    "Smartcore `numbers` provides traits that are composition of [`num-traits` library's](https://docs.rs/num-traits/latest/num_traits/) base traits:\n",
    "* `basenum::Number`: . Composed by traits like `Bounded` and `Copy`, you can look up all the ones that are part of the set.\n",
    "* `floatnum::FloatNumber`: a trait that is the composition of `Number + num_traits::Float + num_traits::Signed`\n",
    "* `realnum::RealNumber`: a trait to specify Reals (Rational and Irrational), it is the composition of `Number + Float`\n",
    "\n",
    "This provides useful constraints like for example: only `Number` allows absolute ordering (`Ord`), `FloatNumber` and `RealNumber` are required `PartialEq` for evident reasons, and all the nice constraints necessary to leverage a type system. \n",
    "\n",
    "This powerful representation is hidden to the end-user under useful structures like, again, `DenseMatrix` (`SparseMatrix` to be there soon enough). Whatever Rust primitive (strings will also be implemented soon enough) you decide to use in your matrices the traits system will check that the constraints are satisfied, making everything safer and providing compile-time goodies. \n",
    "\n",
    "The traits system is not limited to these foundamental traits, you will see more theoretically-defined traits applied to matrices like the ones in `smartcore::linalg::traits` that allow properties to be attached to 2D arrays with particular characteristics. \n"
   ]
  },
  {
   "cell_type": "markdown",
   "id": "a50398e2",
   "metadata": {},
   "source": [
    "## vectors (1D arrays)\n",
    "\n",
    "Smartcore also provides useful extensions for Rust's `Vec`, you can find those in `src/linalg/basic/vector.rs`. For example this implementation:\n",
    "```\n",
    "impl<T: Debug + Display + Copy + Sized> Array1<T> for Vec<T> { ... }\n",
    "```\n",
    "extends a generic `Vec<T>` with Smartcore's custom capabilities from `smartcore::lianalg::basic::arrays::Array1`, like creating a mutable instance from a `Range` (slice):\n",
    "```\n",
    "fn slice_mut<'b>(&'b mut self, range: Range<usize>) -> Box<dyn MutArrayView1<T> + 'b>\n",
    "```\n",
    "\n",
    "Other interesting convenience methods provided by this module:\n",
    "* `from_iterator`\n",
    "* `iterator_mut`\n",
    "* `from_vec_slice`\n",
    "* ...\n",
    "\n",
    "Linear Algebra operations are collected in:\n",
    "```\n",
    "pub trait MutArray<T: Debug + Display + Copy + Sized, S>: Array<T, S> { ... }\n",
    "```\n",
    "\n",
    "Let's see some examples leveraging mutability:\n"
   ]
  },
  {
   "cell_type": "code",
   "execution_count": 12,
   "id": "43a34fbc",
   "metadata": {},
   "outputs": [
    {
     "name": "stdout",
     "output_type": "stream",
     "text": [
      "original value:\n",
      "\t3\n",
      "set value:\n",
      "\t101\n"
     ]
    }
   ],
   "source": [
    "// getting an element\n",
    "\n",
    "// we  need this trait in scope to handle mutable arrays\n",
    "use smartcore::linalg::basic::arrays::MutArray;\n",
    "\n",
    "// this is a mutable Vec<i32>\n",
    "let mut x = vec![1, 2, 3];\n",
    "\n",
    "// this unwraps the Option<&T> and prints the value\n",
    "println!(\"original value:\\n\\t{:?}\", *x.get(2));\n",
    "\n",
    "// this sets the value at position 1\n",
    "x.set(1, 101);\n",
    "\n",
    "println!(\"set value:\\n\\t{:?}\", x.get(1));"
   ]
  },
  {
   "cell_type": "code",
   "execution_count": 17,
   "id": "426d88fa",
   "metadata": {},
   "outputs": [
    {
     "name": "stdout",
     "output_type": "stream",
     "text": [
      "initial vector:\n",
      "\t[1, 2, 3]\n",
      "power of 2 of vector:\n",
      "\t[1, 4, 9]\n",
      "This iterator changes sign to its elements\n",
      "\t-1\n",
      "\t-2\n",
      "\t-3\n",
      "This line panics as an `Array` has no second axis:\n"
     ]
    },
    {
     "name": "stderr",
     "output_type": "stream",
     "text": [
      "thread '<unnamed>' panicked at 'For one dimensional array `axis` should == 0', /home/lorenzo/.cargo/git/checkouts/smartcore-91f9710bf445643e/42d017e/src/linalg/basic/vector.rs:32:9\n",
      "stack backtrace:\n",
      "note: Some details are omitted, run with `RUST_BACKTRACE=full` for a verbose backtrace.\n"
     ]
    }
   ],
   "source": [
    "// we  need this trait in scope to use iterator\n",
    "use smartcore::linalg::basic::arrays::Array;\n",
    "\n",
    "// iterate over one of the axis of the array\n",
    "// use `Array::iterator` on a Vec<i32>\n",
    "let v: Vec<i32> = vec![1, 2, 3];\n",
    "let mut pow_: Vec<i32> = vec![];\n",
    "v.iterator(0).for_each(|v| pow_.push(v.pow(2)));\n",
    "println!(\"initial vector:\\n\\t{:?}\", v);\n",
    "println!(\"power of 2 of vector:\\n\\t{:?}\", pow_);\n",
    "\n",
    "// same but with mutability\n",
    "// use `Array::iterator_mut` on a Vec<i32>\n",
    "println!(\"This iterator changes sign to its elements\");\n",
    "vec![1, 2, 3].iterator_mut(0)   // instantiate a mutable iterator on axis 0\n",
    "    .for_each(|v| {\n",
    "        *v = -*v;                         // change sign to all the elements\n",
    "        println!(\"\\t{:?}\", v.clone());\n",
    "    }\n",
    ");                \n",
    "\n",
    "\n",
    "// use of axis\n",
    "// is this the right behaviour? should we return a `Result` instead?\n",
    "println!(\"This line panics as an `Array` has no second axis:\");\n",
    "let _ = vec![1, 2, 3].iterator(1);"
   ]
  },
  {
   "cell_type": "code",
   "execution_count": 5,
   "id": "fce08e4b",
   "metadata": {},
   "outputs": [
    {
     "name": "stdout",
     "output_type": "stream",
     "text": [
      "argsort()\n",
      "\t[9, 7, 1, 8, 0, 2, 4, 3, 6, 5, 17, 18, 15, 13, 19, 10, 14, 11, 12, 16]\n"
     ]
    }
   ],
   "source": [
    "use smartcore::linalg::basic::arrays::Array1;  // `argsort` trait method needed in scope\n",
    "\n",
    "let arr2 = vec![\n",
    "    0.2, 0.2, 0.2, 0.2, 0.2, 0.4, 0.3, 0.2, 0.2, 0.1, 1.4, 1.5, 1.5, 1.3, 1.5, 1.3, 1.6,\n",
    "    1.0, 1.3, 1.4,\n",
    "];\n",
    "\n",
    "println!(\"argsort()\\n\\t{:?}\",\n",
    "    arr2.argsort()                            // returns ordered indices\n",
    ");"
   ]
  },
  {
   "cell_type": "code",
   "execution_count": 6,
   "id": "39384f3b",
   "metadata": {},
   "outputs": [
    {
     "name": "stdout",
     "output_type": "stream",
     "text": [
      "take(&slice)\n",
      "\t[1, 5, 6]\n"
     ]
    }
   ],
   "source": [
    "println!(\"take(&slice)\\n\\t{:?}\",\n",
    "    vec![1, 2, 3, 4, 5, 6].take(&[0, 4, 5])\n",
    ");"
   ]
  },
  {
   "cell_type": "code",
   "execution_count": 7,
   "id": "2675d915",
   "metadata": {},
   "outputs": [
    {
     "name": "stdout",
     "output_type": "stream",
     "text": [
      "y.copy_from(&x)\n",
      "\t[1, 2, 3]\n"
     ]
    }
   ],
   "source": [
    "use smartcore::linalg::basic::arrays::MutArrayView1;  // `copy_from` trait method needed in scope\n",
    "\n",
    "let x = vec![1, 2, 3];\n",
    "let mut y = Vec::<i32>::zeros(3);\n",
    "y.copy_from(&x);\n",
    "println!(\"y.copy_from(&x)\\n\\t{:?}\",\n",
    "    y\n",
    ");"
   ]
  },
  {
   "cell_type": "markdown",
   "id": "75d5a416",
   "metadata": {},
   "source": [
    "## matrix (2D arrays)\n",
    "\n",
    "The great potential of Rust's traits system is that the above can be easily applied to higher-dimensional arrays than vectors. Smartcore provides `smartcore::linalg::basic::arrays::Array2` as a trait to define matrices, the one used to define `DenseMatrix`.\n",
    "\n",
    "These other methods are provided by `Array2` in addition to the ones in `MutArray` (that is itself a composition of `Array`). just to mention few available methods:\n",
    "* `get_row(..., row: usize)`\n",
    "* `get_column(..., row: usize)`\n",
    "* `eye(size: usize)`\n",
    "* `from_row(slice: ...)`\n",
    "* `from_columns(slice: ...)`\n",
    "* `transpose()`\n",
    "* `reshape(..., nrows: usize, ncols: usize, axis: u8)`\n",
    "* `ab(&self, a_transpose: bool, b: &dyn ArrayView2<T>, b_transpose: bool)`\n",
    "* `ax(&self, a_transpose: bool, x: &dyn ArrayView1<T>)`\n",
    "* `concatenate_2d(arrays: &'a [&'a dyn ArrayView2<T>], axis: u8)`\n",
    "* ...\n",
    "\n",
    "These are added to already existing computational methods that apply to specific `axis` in the structures, like:\n",
    "* `norm(..., p: f64(`\n",
    "* `cov(..., cov: &mut dyn MutArrayView2<f64>)`\n",
    "* `std()`\n",
    "* `var()`\n",
    "* `argmax()`\n",
    "* ..."
   ]
  },
  {
   "cell_type": "code",
   "execution_count": 8,
   "id": "41db203b",
   "metadata": {},
   "outputs": [
    {
     "name": "stdout",
     "output_type": "stream",
     "text": [
      "transposed\n",
      "\tDenseMatrix { ncols: 2, nrows: 3, values: [1, 4, 2, 5, 3, 6], column_major: false }\n",
      "from_slice\n",
      "\tDenseMatrix { ncols: 2, nrows: 2, values: [1, 2, 4, 5], column_major: false }\n",
      "from_row\n",
      "\tDenseMatrix { ncols: 3, nrows: 1, values: [1, 2, 3], column_major: false }\n",
      "from_column\n",
      "\tDenseMatrix { ncols: 1, nrows: 2, values: [1, 4], column_major: false }\n",
      "zeros(2, 2)\n",
      "\tDenseMatrix { ncols: 2, nrows: 2, values: [0, 0, 0, 0], column_major: true }\n",
      "eye(3)\n",
      "\tDenseMatrix { ncols: 3, nrows: 3, values: [1, 0, 0, 0, 1, 0, 0, 0, 1], column_major: true }\n"
     ]
    }
   ],
   "source": [
    "use smartcore::linalg::basic::arrays::{Array, Array2, ArrayView2, MutArrayView2};\n",
    "use smartcore::linalg::basic::matrix::DenseMatrix;\n",
    "\n",
    "let x = DenseMatrix::from_2d_array(&[&[1, 2, 3], &[4, 5, 6]]);\n",
    "println!(\"transposed\\n\\t{:?}\",\n",
    "    x.transpose()\n",
    ");\n",
    "\n",
    "println!(\"from_slice\\n\\t{:?}\",\n",
    "    DenseMatrix::from_slice(x.slice(0..2, 0..2).as_ref())\n",
    ");\n",
    "\n",
    "println!(\"from_row\\n\\t{:?}\",\n",
    "    DenseMatrix::from_row(x.get_row(0).as_ref())\n",
    ");\n",
    "\n",
    "println!(\"from_column\\n\\t{:?}\",\n",
    "    DenseMatrix::from_column(x.get_col(0).as_ref())\n",
    ");\n",
    "\n",
    "println!(\"zeros(2, 2)\\n\\t{:?}\",\n",
    "    DenseMatrix::<i32>::zeros(2, 2)\n",
    ");\n",
    "\n",
    "println!(\"eye(3)\\n\\t{:?}\",\n",
    "    DenseMatrix::<i32>::eye(3)\n",
    ");"
   ]
  },
  {
   "cell_type": "code",
   "execution_count": 9,
   "id": "18cd4158",
   "metadata": {},
   "outputs": [
    {
     "name": "stdout",
     "output_type": "stream",
     "text": [
      "from_2d_array and argmax(0)\n",
      "\t[1, 0, 1]\n",
      "from_2d_array and argmax(1)\n",
      "\t[1, 2]\n"
     ]
    }
   ],
   "source": [
    "println!(\"from_2d_array and argmax(0)\\n\\t{:?}\",\n",
    "    DenseMatrix::from_2d_array(&[&[1, 5, 3], &[4, 2, 6]]).argmax(0)  // `argmax` on axis 0 (columns)\n",
    ");\n",
    "\n",
    "println!(\"from_2d_array and argmax(1)\\n\\t{:?}\",\n",
    "    DenseMatrix::from_2d_array(&[&[1, 5, 3], &[4, 2, 6]]).argmax(1)  // `argmax` on axis 1 (rows)\n",
    ");"
   ]
  },
  {
   "cell_type": "code",
   "execution_count": 10,
   "id": "ba14cd10",
   "metadata": {},
   "outputs": [
    {
     "name": "stdout",
     "output_type": "stream",
     "text": [
      "x equal to y\n",
      "\ttrue\n",
      "x2 equal to y2\n",
      "\tfalse\n"
     ]
    }
   ],
   "source": [
    "// using partial equality for matrices\n",
    "let x = DenseMatrix::from_2d_array(&[&[1, 2, 3], &[4, 5, 6]]);\n",
    "let y = DenseMatrix::from_2d_array(&[&[1, 2, 3], &[4, 5, 6]]);\n",
    "\n",
    "println!(\"x equal to y\\n\\t{:?}\",\n",
    "   x.eq(&y)\n",
    ");\n",
    "\n",
    "let x2 = DenseMatrix::from_2d_array(&[&[1, 2, 3], &[4, 5, 6]]);\n",
    "let y2 = DenseMatrix::from_2d_array(&[&[1, 2, 3], &[4, 5, 7]]);\n",
    "\n",
    "println!(\"x2 equal to y2\\n\\t{:?}\",\n",
    "   x2.eq(&y2)\n",
    ");"
   ]
  },
  {
   "cell_type": "code",
   "execution_count": 11,
   "id": "b3eeebd9",
   "metadata": {},
   "outputs": [
    {
     "name": "stdout",
     "output_type": "stream",
     "text": [
      "x2_float equal to y2_float with a difference (epsilon) of 0.5\n",
      "\ttrue\n"
     ]
    }
   ],
   "source": [
    "// leverage the `approx` library\n",
    ":dep approx = \"0.5.1\"\n",
    "\n",
    "use approx::AbsDiffEq;  // need to import trait in scope for Absolute Difference Equality\n",
    "\n",
    "let x2_float = DenseMatrix::from_2d_array(&[&[1., 2.3, 3.], &[4., 5., 6.2]]);\n",
    "let y2_float = DenseMatrix::from_2d_array(&[&[1., 2.6, 3.], &[4., 5., 6.1]]);\n",
    "\n",
    "println!(\"x2_float equal to y2_float with a difference (epsilon) of 0.5\\n\\t{:?}\",\n",
    "    x2_float.abs_diff_eq(&y2_float, 0.5)\n",
    ");"
   ]
  },
  {
   "cell_type": "code",
   "execution_count": null,
   "id": "a9d09e41",
   "metadata": {},
   "outputs": [],
   "source": []
  }
 ],
 "metadata": {
  "kernelspec": {
   "display_name": "Rust",
   "language": "rust",
   "name": "rust"
  },
  "language_info": {
   "codemirror_mode": "rust",
   "file_extension": ".rs",
   "mimetype": "text/rust",
   "name": "Rust",
   "pygment_lexer": "rust",
   "version": ""
  }
 },
 "nbformat": 4,
 "nbformat_minor": 5
}
