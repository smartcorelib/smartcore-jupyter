{
 "cells": [
  {
   "cell_type": "markdown",
   "id": "98170a0f",
   "metadata": {},
   "source": [
    "# intro to Smartcore\n",
    "\n",
    "Let's start installing the library dependency."
   ]
  },
  {
   "cell_type": "code",
   "execution_count": 6,
   "id": "b409179c",
   "metadata": {},
   "outputs": [],
   "source": [
    "// cargo install the newest version\n",
    ":dep smartcore = { git = \"https://github.com/smartcorelib/smartcore\", branch = \"v0.5-wip\" }"
   ]
  },
  {
   "cell_type": "markdown",
   "id": "93b41009",
   "metadata": {},
   "source": [
    "## numbers types\n",
    "\n",
    "As an example of what Smartcore provides to the users, let's try the new `RealNumber` trait:"
   ]
  },
  {
   "cell_type": "code",
   "execution_count": 7,
   "id": "47359f2d",
   "metadata": {},
   "outputs": [
    {
     "name": "stdout",
     "output_type": "stream",
     "text": [
      "0.7310585786300049\n",
      "1.0\n",
      "0.0\n"
     ]
    }
   ],
   "source": [
    "use smartcore::numbers::realnum::*;  // this line is not needed, just to be explicit\n",
    "\n",
    "println!(\"{:?}\", 1.0.sigmoid());     // 0.7310585786300049\n",
    "println!(\"{:?}\", 41.0.sigmoid());     // 1.\n",
    "println!(\"{:?}\", (-41.0).sigmoid());  // 0\n"
   ]
  },
  {
   "cell_type": "markdown",
   "id": "f1fd5050",
   "metadata": {},
   "source": [
    "As you can see `RealNumber` extends the usual `float` with some convenience methods.\n",
    "\n",
    "All the `numbers` traits implement some of Rust standard library's primitives with usefull methods, like `sigmoid`.\n",
    "\n",
    "Smartcore `numbers` provides traits that are composition of [`num-traits` library's](https://docs.rs/num-traits/latest/num_traits/) base traits:\n",
    "* `basenum::Number`: . The most relavant traits are `Bounded` and `Copy` but you can look up all the ones that are part of the set.\n",
    "* `floatnum::FloatNumber`: a trait that is the composition of `Number + Float + Signed`\n",
    "* `realnum::RealNumber`: a trait to specify Reals (Rational and Irrational), it is the composition of `Number + Float`\n",
    "\n",
    "This is absolutely transparent to the user. Whatever Rust primitive (strings will also be implemented soon enough) you decide to use in your matrices the traits system will check that the constraints are satisfied, making everything safer and providing compile-time goodies. \n",
    "\n",
    "The traits system is not limited to these foundamental traits, you will see more theoretically-defined traits applied to matrices like the ones in `smartcore::linalg::traits` that allow properties to be attached to 2D arrays with particular characteristics. \n"
   ]
  },
  {
   "cell_type": "markdown",
   "id": "b059efde",
   "metadata": {},
   "source": [
    "## -> where to start\n",
    "\n",
    "*If you want to just jump into running algorithms on your data*, the best place to start is instantiating a `smartcore::linalg::basic::matrix::DenseMatrix`; with this handy structure you can leverage all the functionalities provided by the traits system with a simple interface. For the usage of  `DenseMatrix` see the other notebooks where procedures are presented.\n",
    "\n",
    "*If you are interested in understanding how Smartcore works* because you are thinking about contributing or you are just curious, keep reading here and you will find some nuggets."
   ]
  },
  {
   "cell_type": "markdown",
   "id": "0213598e",
   "metadata": {},
   "source": [
    "## vectors (1D arrays)\n",
    "\n",
    "Smartcore also provides useful extensions for Rust's `Vec`, you can find those in `src/linalg/basic/vector`. For example this implementation:\n",
    "```\n",
    "impl<T: Debug + Display + Copy + Sized> Array1<T> for Vec<T> { ... }\n",
    "```\n",
    "extends a generic `Vec<T>` with Smartcore's custom capabilities from `smartcore::lianalg::basic::arrays::Array1`, like creting a mutable instance from a `Range` (slice):\n",
    "```\n",
    "fn slice_mut<'b>(&'b mut self, range: Range<usize>) -> Box<dyn MutArrayView1<T> + 'b>\n",
    "```\n",
    "\n",
    "Other interesting convenience methods provided by this module:\n",
    "* `from_iterator`\n",
    "* `iterator_mut`\n",
    "* `from_vec_slice`\n",
    "* ...\n",
    "\n",
    "Linear Algebra operations are collected in:\n",
    "```\n",
    "pub trait MutArray<T: Debug + Display + Copy + Sized, S>: Array<T, S> { ... }\n",
    "```\n",
    "\n",
    "Let's see some examples leveraging mutability:\n"
   ]
  },
  {
   "cell_type": "code",
   "execution_count": 17,
   "id": "32d8e1b7",
   "metadata": {},
   "outputs": [
    {
     "name": "stdout",
     "output_type": "stream",
     "text": [
      "original value: 3\n",
      "set value: 101\n"
     ]
    }
   ],
   "source": [
    "// getting an element\n",
    "\n",
    "// we  need this trait in scope to handle mutable arrays\n",
    "use smartcore::linalg::basic::arrays::MutArray;\n",
    "\n",
    "// this is a mutable Vec<i32>\n",
    "let mut x = vec![1, 2, 3];\n",
    "\n",
    "// this unwraps the Option<&T> and prints the value\n",
    "println!(\"original value: {:?}\", *x.get(2).unwrap());\n",
    "\n",
    "// this sets the value at position 1\n",
    "x.set(1, 101);\n",
    "\n",
    "println!(\"set value: {:?}\", x.get(1).unwrap());"
   ]
  },
  {
   "cell_type": "code",
   "execution_count": 49,
   "id": "9eb5cc3a",
   "metadata": {},
   "outputs": [
    {
     "name": "stdout",
     "output_type": "stream",
     "text": [
      "initial vector: [1, 2, 3]\n",
      "power of 2 vector: [1, 4, 9]\n",
      "-1\n",
      "-2\n",
      "-3\n"
     ]
    },
    {
     "name": "stderr",
     "output_type": "stream",
     "text": [
      "thread '<unnamed>' panicked at 'For one dimensional array `axis` should == 0', /home/lorenzo/.cargo/git/checkouts/smartcore-91f9710bf445643e/42d017e/src/linalg/basic/vector.rs:32:9\n",
      "stack backtrace:\n",
      "note: Some details are omitted, run with `RUST_BACKTRACE=full` for a verbose backtrace.\n"
     ]
    }
   ],
   "source": [
    "// we  need this trait in scope to use iterator\n",
    "use smartcore::linalg::basic::arrays::Array;\n",
    "\n",
    "// iterate over one of the axis of the array\n",
    "// use `Array::iterator` on a Vec<i32>\n",
    "let v: Vec<i32> = vec![1, 2, 3];\n",
    "let mut pow_: Vec<i32> = vec![];\n",
    "v.iterator(0).for_each(|v| pow_.push(v.pow(2)));\n",
    "println!(\"initial vector: {:?}\", v);\n",
    "println!(\"power of 2 vector: {:?}\", pow_);\n",
    "\n",
    "// same but with mutability\n",
    "// use `Array::iterator_mut` on a Vec<i32>\n",
    "vec![1, 2, 3].iterator_mut(0)   // instantiate a mutable iterator on axis 0\n",
    "    .for_each(|v| {\n",
    "        *v = -*v;                         // change sign to all the elements\n",
    "        println!(\"{:?}\", v.clone());\n",
    "    }\n",
    ");                \n",
    "\n",
    "\n",
    "// use of axis\n",
    "// this line panics as an `Array` has no second axis\n",
    "// is this the right behaviour? should we return a `Result` instead?\n",
    "let _ = vec![1, 2, 3].iterator(1);"
   ]
  },
  {
   "cell_type": "code",
   "execution_count": null,
   "id": "9d92d350",
   "metadata": {},
   "outputs": [],
   "source": []
  }
 ],
 "metadata": {
  "kernelspec": {
   "display_name": "Rust",
   "language": "rust",
   "name": "rust"
  },
  "language_info": {
   "codemirror_mode": "rust",
   "file_extension": ".rs",
   "mimetype": "text/rust",
   "name": "Rust",
   "pygment_lexer": "rust",
   "version": ""
  }
 },
 "nbformat": 4,
 "nbformat_minor": 5
}
