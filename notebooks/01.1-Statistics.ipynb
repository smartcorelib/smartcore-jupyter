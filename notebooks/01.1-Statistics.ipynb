{
 "cells": [
  {
   "cell_type": "markdown",
   "id": "d8b5cee6",
   "metadata": {},
   "source": [
    "# Statistics"
   ]
  },
  {
   "cell_type": "code",
   "execution_count": 2,
   "id": "67b78505",
   "metadata": {
    "vscode": {
     "languageId": "rust"
    }
   },
   "outputs": [],
   "source": [
    "// cargo install the newest version\n",
    "// this may take a while, needs to download and install the library\n",
    ":dep smartcore = { git = \"https://github.com/smartcorelib/smartcore\", branch = \"development\" }"
   ]
  },
  {
   "cell_type": "code",
   "execution_count": 3,
   "id": "c1afdde1",
   "metadata": {
    "vscode": {
     "languageId": "rust"
    }
   },
   "outputs": [],
   "source": [
    "use smartcore::linalg::basic::matrix::DenseMatrix;\n",
    "use smartcore::linalg::traits::stats::MatrixStats;"
   ]
  },
  {
   "cell_type": "markdown",
   "id": "00eafc29",
   "metadata": {},
   "source": [
    "## mean"
   ]
  },
  {
   "cell_type": "code",
   "execution_count": 4,
   "id": "64935cdb",
   "metadata": {
    "vscode": {
     "languageId": "rust"
    }
   },
   "outputs": [
    {
     "name": "stdout",
     "output_type": "stream",
     "text": [
      "[4.0, 5.0, 6.0, 3.0, 4.0]\n",
      "[1.8, 4.4, 7.0]\n"
     ]
    }
   ],
   "source": [
    "let m = DenseMatrix::from_2d_array(&[\n",
    "    &[1., 2., 3., 1., 2.],\n",
    "    &[4., 5., 6., 3., 4.],\n",
    "    &[7., 8., 9., 5., 6.],\n",
    "]);\n",
    "\n",
    "println!(\"{:?}\", m.mean(0));  // specify which axis: 0 (columnar)\n",
    "println!(\"{:?}\", m.mean(1));  // specify which axis: 1 (rows)"
   ]
  },
  {
   "cell_type": "markdown",
   "id": "31d1243b",
   "metadata": {},
   "source": [
    "## variance"
   ]
  },
  {
   "cell_type": "code",
   "execution_count": 8,
   "id": "eebef10b",
   "metadata": {
    "vscode": {
     "languageId": "rust"
    }
   },
   "outputs": [
    {
     "name": "stdout",
     "output_type": "stream",
     "text": [
      "[6.0, 6.0, 6.0, 2.6666666666666665, 2.6666666666666665]\n",
      "[0.56, 1.04, 2.0]\n"
     ]
    }
   ],
   "source": [
    "println!(\"{:?}\", m.var(0));  // specify which axis: 0 (columnar)\n",
    "println!(\"{:?}\", m.var(1));  // specify which axis: 1 (rows)"
   ]
  },
  {
   "cell_type": "markdown",
   "id": "2d7a986d",
   "metadata": {},
   "source": [
    "## standard deviation"
   ]
  },
  {
   "cell_type": "code",
   "execution_count": 9,
   "id": "a74dac33",
   "metadata": {
    "vscode": {
     "languageId": "rust"
    }
   },
   "outputs": [
    {
     "name": "stdout",
     "output_type": "stream",
     "text": [
      "[2.449489742783178, 2.449489742783178, 2.449489742783178, 1.632993161855452, 1.632993161855452]\n",
      "[0.7483314773547883, 1.019803902718557, 1.4142135623730951]\n"
     ]
    }
   ],
   "source": [
    "println!(\"{:?}\", m.std(0));  // specify which axis: 0 (columnar)\n",
    "println!(\"{:?}\", m.std(1));  // specify which axis: 1 (rows)"
   ]
  },
  {
   "cell_type": "markdown",
   "id": "747e72e2",
   "metadata": {},
   "source": [
    "## standard scaling"
   ]
  },
  {
   "cell_type": "code",
   "execution_count": 7,
   "id": "7146dd45",
   "metadata": {
    "vscode": {
     "languageId": "rust"
    }
   },
   "outputs": [
    {
     "name": "stdout",
     "output_type": "stream",
     "text": [
      "DenseMatrix: nrows: 3, ncols: 5\n",
      "column_major: true\n",
      "[1.0, 2.0, 3.0, 1.0, 2.0]\n",
      "[4.0, 5.0, 6.0, 3.0, 4.0]\n",
      "[7.0, 8.0, 9.0, 5.0, 6.0]\n",
      "\n",
      "DenseMatrix: nrows: 3, ncols: 5\n",
      "column_major: true\n",
      "[-1.2247448713915892, -1.2247448713915892, -1.2247448713915892, -1.224744871391589, -1.224744871391589]\n",
      "[0.0, 0.0, 0.0, 0.0, 0.0]\n",
      "[1.2247448713915892, 1.2247448713915892, 1.2247448713915892, 1.224744871391589, 1.224744871391589]\n",
      "\n"
     ]
    }
   ],
   "source": [
    "println!(\"{}\", m);\n",
    "\n",
    "let mut m_mut: DenseMatrix<f64> = m.clone();\n",
    "m_mut.standard_scale_mut(&m.mean(0), &m.std(0), 0);\n",
    "\n",
    "println!(\"{}\", m_mut); "
   ]
  },
  {
   "cell_type": "code",
   "execution_count": null,
   "id": "437356c7",
   "metadata": {
    "vscode": {
     "languageId": "rust"
    }
   },
   "outputs": [],
   "source": []
  }
 ],
 "metadata": {
  "kernelspec": {
   "display_name": "Rust",
   "language": "rust",
   "name": "rust"
  },
  "language_info": {
   "codemirror_mode": "rust",
   "file_extension": ".rs",
   "mimetype": "text/rust",
   "name": "Rust",
   "pygment_lexer": "rust",
   "version": ""
  }
 },
 "nbformat": 4,
 "nbformat_minor": 5
}
