{
 "cells": [
  {
   "cell_type": "markdown",
   "id": "ed061f21",
   "metadata": {},
   "source": [
    "# Trees"
   ]
  },
  {
   "cell_type": "code",
   "execution_count": 5,
   "id": "07736855",
   "metadata": {},
   "outputs": [],
   "source": [
    "// cargo install the newest version\n",
    "// this may take a while, needs to download and install the library\n",
    ":dep smartcore = { git = \"https://github.com/smartcorelib/smartcore\", branch = \"v0.5-wip\" }"
   ]
  },
  {
   "cell_type": "code",
   "execution_count": 10,
   "id": "4688f917",
   "metadata": {},
   "outputs": [
    {
     "name": "stdout",
     "output_type": "stream",
     "text": [
      "[0, 0, 0, 0, 0, 0, 0, 0, 1, 1, 1, 1, 1, 1, 1, 1, 1, 1, 1, 1]\n"
     ]
    },
    {
     "data": {
      "text/plain": [
       "()"
      ]
     },
     "execution_count": 10,
     "metadata": {},
     "output_type": "execute_result"
    }
   ],
   "source": [
    "use smartcore::linalg::basic::matrix::DenseMatrix;\n",
    "use smartcore::tree::decision_tree_classifier::*;\n",
    "\n",
    "let x: DenseMatrix<f64> = DenseMatrix::from_2d_array(&[\n",
    "    &[5.1, 3.5, 1.4, 0.2],\n",
    "    &[4.9, 3.0, 1.4, 0.2],\n",
    "    &[4.7, 3.2, 1.3, 0.2],\n",
    "    &[4.6, 3.1, 1.5, 0.2],\n",
    "    &[5.0, 3.6, 1.4, 0.2],\n",
    "    &[5.4, 3.9, 1.7, 0.4],\n",
    "    &[4.6, 3.4, 1.4, 0.3],\n",
    "    &[5.0, 3.4, 1.5, 0.2],\n",
    "    &[4.4, 2.9, 1.4, 0.2],\n",
    "    &[4.9, 3.1, 1.5, 0.1],\n",
    "    &[7.0, 3.2, 4.7, 1.4],\n",
    "    &[6.4, 3.2, 4.5, 1.5],\n",
    "    &[6.9, 3.1, 4.9, 1.5],\n",
    "    &[5.5, 2.3, 4.0, 1.3],\n",
    "    &[6.5, 2.8, 4.6, 1.5],\n",
    "    &[5.7, 2.8, 4.5, 1.3],\n",
    "    &[6.3, 3.3, 4.7, 1.6],\n",
    "    &[4.9, 2.4, 3.3, 1.0],\n",
    "    &[6.6, 2.9, 4.6, 1.3],\n",
    "    &[5.2, 2.7, 3.9, 1.4],\n",
    "]);\n",
    "\n",
    "let y: Vec<u32> = vec![0, 0, 0, 0, 0, 0, 0, 0, 1, 1, 1, 1, 1, 1, 1, 1, 1, 1, 1, 1];\n",
    "\n",
    "let y_hat: Vec<u32> = DecisionTreeClassifier::fit(&x, &y, Default::default())\n",
    "        .and_then(|t| t.predict(&x)).unwrap();\n",
    "\n",
    "assert_eq!(\n",
    "    &y,\n",
    "    &y_hat\n",
    ");\n",
    "\n",
    "println!(\n",
    "   \"{:?}\",\n",
    "   y_hat\n",
    ")"
   ]
  },
  {
   "cell_type": "code",
   "execution_count": null,
   "id": "4000cf5e",
   "metadata": {},
   "outputs": [],
   "source": []
  }
 ],
 "metadata": {
  "kernelspec": {
   "display_name": "Rust",
   "language": "rust",
   "name": "rust"
  },
  "language_info": {
   "codemirror_mode": "rust",
   "file_extension": ".rs",
   "mimetype": "text/rust",
   "name": "Rust",
   "pygment_lexer": "rust",
   "version": ""
  }
 },
 "nbformat": 4,
 "nbformat_minor": 5
}
