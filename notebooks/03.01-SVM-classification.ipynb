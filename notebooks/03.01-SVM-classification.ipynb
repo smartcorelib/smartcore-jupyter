{
 "cells": [
  {
   "cell_type": "markdown",
   "id": "2f44351f",
   "metadata": {},
   "source": [
    "# Logistic Classification example"
   ]
  },
  {
   "cell_type": "code",
   "execution_count": 3,
   "id": "7f37987a",
   "metadata": {
    "vscode": {
     "languageId": "rust"
    }
   },
   "outputs": [],
   "source": [
    "// cargo install the newest version\n",
    "// this may take a while, needs to download and install the library\n",
    ":dep smartcore = { git = \"https://github.com/smartcorelib/smartcore\", branch = \"development\", features = [\"serde\"] }\n",
    ":dep serde_json = \"1.0\""
   ]
  },
  {
   "cell_type": "code",
   "execution_count": 9,
   "id": "61d9e352",
   "metadata": {
    "vscode": {
     "languageId": "rust"
    }
   },
   "outputs": [],
   "source": [
    "use smartcore::linalg::basic::matrix::DenseMatrix;\n",
    "use serde_json;\n",
    "// Model performance\n",
    "use smartcore::metrics::{accuracy, mean_squared_error};\n",
    "\n",
    "use smartcore::svm::Kernels;\n",
    "use smartcore::svm::svc::*;"
   ]
  },
  {
   "cell_type": "markdown",
   "id": "463aeafb",
   "metadata": {},
   "source": [
    "## basic prediction and accuracy"
   ]
  },
  {
   "cell_type": "code",
   "execution_count": 13,
   "id": "5170a9bc",
   "metadata": {
    "vscode": {
     "languageId": "rust"
    }
   },
   "outputs": [],
   "source": [
    "let x = DenseMatrix::from_2d_array(&[\n",
    "    &[5.1, 3.5, 1.4, 0.2],\n",
    "    &[4.9, 3.0, 1.4, 0.2],\n",
    "    &[4.7, 3.2, 1.3, 0.2],\n",
    "    &[4.6, 3.1, 1.5, 0.2],\n",
    "    &[5.0, 3.6, 1.4, 0.2],\n",
    "    &[5.4, 3.9, 1.7, 0.4],\n",
    "    &[4.6, 3.4, 1.4, 0.3],\n",
    "    &[5.0, 3.4, 1.5, 0.2],\n",
    "    &[4.4, 2.9, 1.4, 0.2],\n",
    "    &[4.9, 3.1, 1.5, 0.1],\n",
    "    &[7.0, 3.2, 4.7, 1.4],\n",
    "    &[6.4, 3.2, 4.5, 1.5],\n",
    "    &[6.9, 3.1, 4.9, 1.5],\n",
    "    &[5.5, 2.3, 4.0, 1.3],\n",
    "    &[6.5, 2.8, 4.6, 1.5],\n",
    "    &[5.7, 2.8, 4.5, 1.3],\n",
    "    &[6.3, 3.3, 4.7, 1.6],\n",
    "    &[4.9, 2.4, 3.3, 1.0],\n",
    "    &[6.6, 2.9, 4.6, 1.3],\n",
    "    &[5.2, 2.7, 3.9, 1.4],\n",
    "]);\n",
    "\n",
    "let y: Vec<i32> = vec![\n",
    "    -1, -1, -1, -1, -1, -1, -1, -1, -1, -1, 1, 1, 1, 1, 1, 1, 1, 1, 1, 1,\n",
    "];\n",
    "\n",
    "let y_hat: Vec<f64> = SVC::fit(\n",
    "    &x,\n",
    "    &y,\n",
    "    &SVCParameters::default()\n",
    "        .with_c(1.0)\n",
    "        .with_kernel(&Kernels::rbf().with_gamma(0.7)),\n",
    ")\n",
    ".and_then(|lr| lr.predict(&x))\n",
    ".unwrap();\n",
    "\n",
    "let acc = accuracy(&y, &(y_hat.iter().map(|e| *e as i32).collect()));\n",
    "\n",
    "println!(\"{}\", )\n"
   ]
  },
  {
   "cell_type": "code",
   "execution_count": null,
   "id": "31dc6b9d",
   "metadata": {
    "vscode": {
     "languageId": "rust"
    }
   },
   "outputs": [],
   "source": []
  }
 ],
 "metadata": {
  "kernelspec": {
   "display_name": "Rust",
   "language": "rust",
   "name": "rust"
  },
  "language_info": {
   "codemirror_mode": "rust",
   "file_extension": ".rs",
   "mimetype": "text/rust",
   "name": "Rust",
   "pygment_lexer": "rust",
   "version": ""
  }
 },
 "nbformat": 4,
 "nbformat_minor": 5
}
